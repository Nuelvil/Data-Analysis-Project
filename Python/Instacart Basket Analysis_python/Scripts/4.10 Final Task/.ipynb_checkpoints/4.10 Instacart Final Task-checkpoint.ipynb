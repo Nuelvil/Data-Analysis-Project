{
 "cells": [
  {
   "cell_type": "code",
   "execution_count": 6,
   "id": "549634e1-f93e-49b5-a46f-f4685e1e63be",
   "metadata": {},
   "outputs": [],
   "source": [
    "# Import libraries\n",
    "import pandas as pd\n",
    "import numpy as np\n",
    "import os\n",
    "import matplotlib.pyplot as plt\n",
    "import seaborn as sns\n",
    "import scipy"
   ]
  },
  {
   "cell_type": "code",
   "execution_count": 7,
   "id": "43524332-c594-48a5-a181-8993d2442715",
   "metadata": {},
   "outputs": [],
   "source": [
    "# Set path \n",
    "path = r'/Users/swapnilgadage/Documents/DataAnalytics/Achivment 4/06.11.2024_Instacart Basket Analysis'"
   ]
  },
  {
   "cell_type": "code",
   "execution_count": 10,
   "id": "a2776876-6e2f-447d-99db-4b41ec905ab6",
   "metadata": {},
   "outputs": [],
   "source": [
    "# import dataframe\n",
    "ords_prods_cust = pd.read_pickle(os.path.join(path, 'Data', 'Prepared Data', 'orders_products_customers_merged_task9.pkl'))"
   ]
  },
  {
   "cell_type": "markdown",
   "id": "47d69738-2eee-4d20-a8b3-8d826177a2bd",
   "metadata": {},
   "source": [
    "# 3.  Create a regional segmentation of the data."
   ]
  },
  {
   "cell_type": "code",
   "execution_count": 11,
   "id": "1bfa67ae-ffc8-42c5-b92d-4f865bfb4930",
   "metadata": {},
   "outputs": [
    {
     "data": {
      "text/html": [
       "<div>\n",
       "<style scoped>\n",
       "    .dataframe tbody tr th:only-of-type {\n",
       "        vertical-align: middle;\n",
       "    }\n",
       "\n",
       "    .dataframe tbody tr th {\n",
       "        vertical-align: top;\n",
       "    }\n",
       "\n",
       "    .dataframe thead th {\n",
       "        text-align: right;\n",
       "    }\n",
       "</style>\n",
       "<table border=\"1\" class=\"dataframe\">\n",
       "  <thead>\n",
       "    <tr style=\"text-align: right;\">\n",
       "      <th></th>\n",
       "      <th>order_id</th>\n",
       "      <th>user_id</th>\n",
       "      <th>eval_set</th>\n",
       "      <th>order_number</th>\n",
       "      <th>orders_day_of_week</th>\n",
       "      <th>order_hour_of_day</th>\n",
       "      <th>days_since_prior_order</th>\n",
       "      <th>product_id</th>\n",
       "      <th>add_to_cart_order</th>\n",
       "      <th>reordered</th>\n",
       "      <th>...</th>\n",
       "      <th>first_name</th>\n",
       "      <th>last_name</th>\n",
       "      <th>gender</th>\n",
       "      <th>state</th>\n",
       "      <th>age</th>\n",
       "      <th>date_joined</th>\n",
       "      <th>n_dependants</th>\n",
       "      <th>marital_status</th>\n",
       "      <th>income</th>\n",
       "      <th>_merge</th>\n",
       "    </tr>\n",
       "  </thead>\n",
       "  <tbody>\n",
       "    <tr>\n",
       "      <th>0</th>\n",
       "      <td>2539329</td>\n",
       "      <td>1</td>\n",
       "      <td>prior</td>\n",
       "      <td>1</td>\n",
       "      <td>2</td>\n",
       "      <td>8</td>\n",
       "      <td>NaN</td>\n",
       "      <td>196</td>\n",
       "      <td>1</td>\n",
       "      <td>0</td>\n",
       "      <td>...</td>\n",
       "      <td>Linda</td>\n",
       "      <td>Nguyen</td>\n",
       "      <td>Female</td>\n",
       "      <td>Alabama</td>\n",
       "      <td>31</td>\n",
       "      <td>2/17/2019</td>\n",
       "      <td>3</td>\n",
       "      <td>married</td>\n",
       "      <td>40423</td>\n",
       "      <td>both</td>\n",
       "    </tr>\n",
       "    <tr>\n",
       "      <th>1</th>\n",
       "      <td>2539329</td>\n",
       "      <td>1</td>\n",
       "      <td>prior</td>\n",
       "      <td>1</td>\n",
       "      <td>2</td>\n",
       "      <td>8</td>\n",
       "      <td>NaN</td>\n",
       "      <td>14084</td>\n",
       "      <td>2</td>\n",
       "      <td>0</td>\n",
       "      <td>...</td>\n",
       "      <td>Linda</td>\n",
       "      <td>Nguyen</td>\n",
       "      <td>Female</td>\n",
       "      <td>Alabama</td>\n",
       "      <td>31</td>\n",
       "      <td>2/17/2019</td>\n",
       "      <td>3</td>\n",
       "      <td>married</td>\n",
       "      <td>40423</td>\n",
       "      <td>both</td>\n",
       "    </tr>\n",
       "    <tr>\n",
       "      <th>2</th>\n",
       "      <td>2539329</td>\n",
       "      <td>1</td>\n",
       "      <td>prior</td>\n",
       "      <td>1</td>\n",
       "      <td>2</td>\n",
       "      <td>8</td>\n",
       "      <td>NaN</td>\n",
       "      <td>12427</td>\n",
       "      <td>3</td>\n",
       "      <td>0</td>\n",
       "      <td>...</td>\n",
       "      <td>Linda</td>\n",
       "      <td>Nguyen</td>\n",
       "      <td>Female</td>\n",
       "      <td>Alabama</td>\n",
       "      <td>31</td>\n",
       "      <td>2/17/2019</td>\n",
       "      <td>3</td>\n",
       "      <td>married</td>\n",
       "      <td>40423</td>\n",
       "      <td>both</td>\n",
       "    </tr>\n",
       "    <tr>\n",
       "      <th>3</th>\n",
       "      <td>2539329</td>\n",
       "      <td>1</td>\n",
       "      <td>prior</td>\n",
       "      <td>1</td>\n",
       "      <td>2</td>\n",
       "      <td>8</td>\n",
       "      <td>NaN</td>\n",
       "      <td>26088</td>\n",
       "      <td>4</td>\n",
       "      <td>0</td>\n",
       "      <td>...</td>\n",
       "      <td>Linda</td>\n",
       "      <td>Nguyen</td>\n",
       "      <td>Female</td>\n",
       "      <td>Alabama</td>\n",
       "      <td>31</td>\n",
       "      <td>2/17/2019</td>\n",
       "      <td>3</td>\n",
       "      <td>married</td>\n",
       "      <td>40423</td>\n",
       "      <td>both</td>\n",
       "    </tr>\n",
       "    <tr>\n",
       "      <th>4</th>\n",
       "      <td>2539329</td>\n",
       "      <td>1</td>\n",
       "      <td>prior</td>\n",
       "      <td>1</td>\n",
       "      <td>2</td>\n",
       "      <td>8</td>\n",
       "      <td>NaN</td>\n",
       "      <td>26405</td>\n",
       "      <td>5</td>\n",
       "      <td>0</td>\n",
       "      <td>...</td>\n",
       "      <td>Linda</td>\n",
       "      <td>Nguyen</td>\n",
       "      <td>Female</td>\n",
       "      <td>Alabama</td>\n",
       "      <td>31</td>\n",
       "      <td>2/17/2019</td>\n",
       "      <td>3</td>\n",
       "      <td>married</td>\n",
       "      <td>40423</td>\n",
       "      <td>both</td>\n",
       "    </tr>\n",
       "  </tbody>\n",
       "</table>\n",
       "<p>5 rows × 30 columns</p>\n",
       "</div>"
      ],
      "text/plain": [
       "   order_id user_id eval_set  order_number  orders_day_of_week  \\\n",
       "0   2539329       1    prior             1                   2   \n",
       "1   2539329       1    prior             1                   2   \n",
       "2   2539329       1    prior             1                   2   \n",
       "3   2539329       1    prior             1                   2   \n",
       "4   2539329       1    prior             1                   2   \n",
       "\n",
       "   order_hour_of_day  days_since_prior_order  product_id  add_to_cart_order  \\\n",
       "0                  8                     NaN         196                  1   \n",
       "1                  8                     NaN       14084                  2   \n",
       "2                  8                     NaN       12427                  3   \n",
       "3                  8                     NaN       26088                  4   \n",
       "4                  8                     NaN       26405                  5   \n",
       "\n",
       "   reordered  ... first_name  last_name  gender    state age date_joined  \\\n",
       "0          0  ...      Linda     Nguyen  Female  Alabama  31   2/17/2019   \n",
       "1          0  ...      Linda     Nguyen  Female  Alabama  31   2/17/2019   \n",
       "2          0  ...      Linda     Nguyen  Female  Alabama  31   2/17/2019   \n",
       "3          0  ...      Linda     Nguyen  Female  Alabama  31   2/17/2019   \n",
       "4          0  ...      Linda     Nguyen  Female  Alabama  31   2/17/2019   \n",
       "\n",
       "  n_dependants marital_status  income _merge  \n",
       "0            3        married   40423   both  \n",
       "1            3        married   40423   both  \n",
       "2            3        married   40423   both  \n",
       "3            3        married   40423   both  \n",
       "4            3        married   40423   both  \n",
       "\n",
       "[5 rows x 30 columns]"
      ]
     },
     "execution_count": 11,
     "metadata": {},
     "output_type": "execute_result"
    }
   ],
   "source": [
    "ords_prods_cust.head()"
   ]
  },
  {
   "cell_type": "code",
   "execution_count": 14,
   "id": "123fb2bf-d525-4d22-8de4-27d9fd32bf68",
   "metadata": {},
   "outputs": [],
   "source": [
    "# Assign Northeast Region\n",
    "ords_prods_cust.loc[ords_prods_cust['state'] == 'Maine', 'region'] = 'Northeast'\n",
    "ords_prods_cust.loc[ords_prods_cust['state'] == 'New Hampshire', 'region'] = 'Northeast'\n",
    "ords_prods_cust.loc[ords_prods_cust['state'] == 'Vermont', 'region'] = 'Northeast'\n",
    "ords_prods_cust.loc[ords_prods_cust['state'] == 'Pennsylvania', 'region'] = 'Northeast'\n",
    "ords_prods_cust.loc[ords_prods_cust['state'] == 'Massachusetts', 'region'] = 'Northeast'\n",
    "ords_prods_cust.loc[ords_prods_cust['state'] == 'Rhode Island', 'region'] = 'Northeast'\n",
    "ords_prods_cust.loc[ords_prods_cust['state'] == 'Connecticut', 'region'] = 'Northeast'"
   ]
  },
  {
   "cell_type": "code",
   "execution_count": 16,
   "id": "26047e5c-f6b1-4b1b-b013-c37f653c4ab7",
   "metadata": {},
   "outputs": [],
   "source": [
    "# Assign Midwest Region\n",
    "ords_prods_cust.loc[ords_prods_cust['state'] == 'Wisconsin', 'region'] = 'Midwest'\n",
    "ords_prods_cust.loc[ords_prods_cust['state'] == 'Michigan', 'region'] = 'Midwest'\n",
    "ords_prods_cust.loc[ords_prods_cust['state'] == 'Illinois', 'region'] = 'Midwest'\n",
    "ords_prods_cust.loc[ords_prods_cust['state'] == 'Indiana', 'region'] = 'Midwest'\n",
    "ords_prods_cust.loc[ords_prods_cust['state'] == 'Ohio', 'region'] = 'Midwest'"
   ]
  },
  {
   "cell_type": "code",
   "execution_count": 18,
   "id": "29abb488-5c92-419b-bbed-53f7bdcc03c5",
   "metadata": {},
   "outputs": [],
   "source": [
    "# Assign Midwest Region2\n",
    "ords_prods_cust.loc[ords_prods_cust['state'] == 'North Dakota', 'region'] = 'Midwest'\n",
    "ords_prods_cust.loc[ords_prods_cust['state'] == 'South Dakota', 'region'] = 'Midwest'\n",
    "ords_prods_cust.loc[ords_prods_cust['state'] == 'Nebraska', 'region'] = 'Midwest'\n",
    "ords_prods_cust.loc[ords_prods_cust['state'] == 'Kansas', 'region'] = 'Midwest'\n",
    "ords_prods_cust.loc[ords_prods_cust['state'] == 'Minnesota', 'region'] = 'Midwest'\n",
    "ords_prods_cust.loc[ords_prods_cust['state'] == 'Iowa', 'region'] = 'Midwest'\n",
    "ords_prods_cust.loc[ords_prods_cust['state'] == 'Missouri', 'region'] = 'Midwest'"
   ]
  },
  {
   "cell_type": "code",
   "execution_count": 20,
   "id": "8e607a4c-f5be-489e-b46e-64d9a2825c91",
   "metadata": {},
   "outputs": [],
   "source": [
    "# Assign South Region\n",
    "ords_prods_cust.loc[ords_prods_cust['state'] == 'Delaware', 'region'] = 'South'\n",
    "ords_prods_cust.loc[ords_prods_cust['state'] == 'Maryland', 'region'] = 'South'\n",
    "ords_prods_cust.loc[ords_prods_cust['state'] == 'District of Columbia', 'region'] = 'South'\n",
    "ords_prods_cust.loc[ords_prods_cust['state'] == 'Virginia', 'region'] = 'South'\n",
    "ords_prods_cust.loc[ords_prods_cust['state'] == 'West Virginia', 'region'] = 'South'\n",
    "ords_prods_cust.loc[ords_prods_cust['state'] == 'North Carolina', 'region'] = 'South'\n",
    "ords_prods_cust.loc[ords_prods_cust['state'] == 'South Carolina', 'region'] = 'South'\n",
    "ords_prods_cust.loc[ords_prods_cust['state'] == 'Georgia', 'region'] = 'South'\n",
    "ords_prods_cust.loc[ords_prods_cust['state'] == 'Florida', 'region'] = 'South'"
   ]
  },
  {
   "cell_type": "code",
   "execution_count": 21,
   "id": "62a568a3-60b9-4f08-b85c-043d41e89a38",
   "metadata": {},
   "outputs": [],
   "source": [
    "# Assign South Region2\n",
    "ords_prods_cust.loc[ords_prods_cust['state'] == 'Kentucky', 'region'] = 'South'\n",
    "ords_prods_cust.loc[ords_prods_cust['state'] == 'Tennessee', 'region'] = 'South'\n",
    "ords_prods_cust.loc[ords_prods_cust['state'] == 'Mississippi', 'region'] = 'South'\n",
    "ords_prods_cust.loc[ords_prods_cust['state'] == 'Alabama', 'region'] = 'South'"
   ]
  },
  {
   "cell_type": "code",
   "execution_count": 23,
   "id": "f7c29933-b883-40e4-a60f-3d988fd97851",
   "metadata": {},
   "outputs": [],
   "source": [
    "# Assign South Region3\n",
    "ords_prods_cust.loc[ords_prods_cust['state'] == 'Oklahoma', 'region'] = 'South'\n",
    "ords_prods_cust.loc[ords_prods_cust['state'] == 'Texas', 'region'] = 'South'\n",
    "ords_prods_cust.loc[ords_prods_cust['state'] == 'Arkansas', 'region'] = 'South'\n",
    "ords_prods_cust.loc[ords_prods_cust['state'] == 'Louisiana', 'region'] = 'South'"
   ]
  },
  {
   "cell_type": "code",
   "execution_count": 26,
   "id": "dd1f24e7-d7f0-4726-b17a-72472ad26868",
   "metadata": {},
   "outputs": [],
   "source": [
    "# Assign West Region\n",
    "ords_prods_cust.loc[ords_prods_cust['state'] == 'Idaho', 'region'] = 'West'\n",
    "ords_prods_cust.loc[ords_prods_cust['state'] == 'Montana', 'region'] = 'West'\n",
    "ords_prods_cust.loc[ords_prods_cust['state'] == 'Wyoming', 'region'] = 'West'\n",
    "ords_prods_cust.loc[ords_prods_cust['state'] == 'Nevada', 'region'] = 'West'\n",
    "ords_prods_cust.loc[ords_prods_cust['state'] == 'Utah', 'region'] = 'West'\n",
    "ords_prods_cust.loc[ords_prods_cust['state'] == 'Colorado', 'region'] = 'West'\n",
    "ords_prods_cust.loc[ords_prods_cust['state'] == 'Arizona', 'region'] = 'West'\n",
    "ords_prods_cust.loc[ords_prods_cust['state'] == 'New Mexico', 'region'] = 'West'"
   ]
  },
  {
   "cell_type": "code",
   "execution_count": 27,
   "id": "7a4f1556-88f6-42da-8a10-be4178016339",
   "metadata": {},
   "outputs": [],
   "source": [
    "# Assign West Region2\n",
    "ords_prods_cust.loc[ords_prods_cust['state'] == 'Alaska', 'region'] = 'West'\n",
    "ords_prods_cust.loc[ords_prods_cust['state'] == 'Washington', 'region'] = 'West'\n",
    "ords_prods_cust.loc[ords_prods_cust['state'] == 'Oregon', 'region'] = 'West'\n",
    "ords_prods_cust.loc[ords_prods_cust['state'] == 'California', 'region'] = 'West'\n",
    "ords_prods_cust.loc[ords_prods_cust['state'] == 'Hawaii', 'region'] = 'West'"
   ]
  },
  {
   "cell_type": "code",
   "execution_count": 30,
   "id": "df1d5555-9373-4a62-9dcb-5c043f1e4500",
   "metadata": {},
   "outputs": [
    {
     "data": {
      "text/html": [
       "<div>\n",
       "<style scoped>\n",
       "    .dataframe tbody tr th:only-of-type {\n",
       "        vertical-align: middle;\n",
       "    }\n",
       "\n",
       "    .dataframe tbody tr th {\n",
       "        vertical-align: top;\n",
       "    }\n",
       "\n",
       "    .dataframe thead th {\n",
       "        text-align: right;\n",
       "    }\n",
       "</style>\n",
       "<table border=\"1\" class=\"dataframe\">\n",
       "  <thead>\n",
       "    <tr style=\"text-align: right;\">\n",
       "      <th></th>\n",
       "      <th>order_id</th>\n",
       "      <th>user_id</th>\n",
       "      <th>eval_set</th>\n",
       "      <th>order_number</th>\n",
       "      <th>orders_day_of_week</th>\n",
       "      <th>order_hour_of_day</th>\n",
       "      <th>days_since_prior_order</th>\n",
       "      <th>product_id</th>\n",
       "      <th>add_to_cart_order</th>\n",
       "      <th>reordered</th>\n",
       "      <th>...</th>\n",
       "      <th>last_name</th>\n",
       "      <th>gender</th>\n",
       "      <th>state</th>\n",
       "      <th>age</th>\n",
       "      <th>date_joined</th>\n",
       "      <th>n_dependants</th>\n",
       "      <th>marital_status</th>\n",
       "      <th>income</th>\n",
       "      <th>_merge</th>\n",
       "      <th>region</th>\n",
       "    </tr>\n",
       "  </thead>\n",
       "  <tbody>\n",
       "    <tr>\n",
       "      <th>0</th>\n",
       "      <td>2539329</td>\n",
       "      <td>1</td>\n",
       "      <td>prior</td>\n",
       "      <td>1</td>\n",
       "      <td>2</td>\n",
       "      <td>8</td>\n",
       "      <td>NaN</td>\n",
       "      <td>196</td>\n",
       "      <td>1</td>\n",
       "      <td>0</td>\n",
       "      <td>...</td>\n",
       "      <td>Nguyen</td>\n",
       "      <td>Female</td>\n",
       "      <td>Alabama</td>\n",
       "      <td>31</td>\n",
       "      <td>2/17/2019</td>\n",
       "      <td>3</td>\n",
       "      <td>married</td>\n",
       "      <td>40423</td>\n",
       "      <td>both</td>\n",
       "      <td>South</td>\n",
       "    </tr>\n",
       "    <tr>\n",
       "      <th>1</th>\n",
       "      <td>2539329</td>\n",
       "      <td>1</td>\n",
       "      <td>prior</td>\n",
       "      <td>1</td>\n",
       "      <td>2</td>\n",
       "      <td>8</td>\n",
       "      <td>NaN</td>\n",
       "      <td>14084</td>\n",
       "      <td>2</td>\n",
       "      <td>0</td>\n",
       "      <td>...</td>\n",
       "      <td>Nguyen</td>\n",
       "      <td>Female</td>\n",
       "      <td>Alabama</td>\n",
       "      <td>31</td>\n",
       "      <td>2/17/2019</td>\n",
       "      <td>3</td>\n",
       "      <td>married</td>\n",
       "      <td>40423</td>\n",
       "      <td>both</td>\n",
       "      <td>South</td>\n",
       "    </tr>\n",
       "    <tr>\n",
       "      <th>2</th>\n",
       "      <td>2539329</td>\n",
       "      <td>1</td>\n",
       "      <td>prior</td>\n",
       "      <td>1</td>\n",
       "      <td>2</td>\n",
       "      <td>8</td>\n",
       "      <td>NaN</td>\n",
       "      <td>12427</td>\n",
       "      <td>3</td>\n",
       "      <td>0</td>\n",
       "      <td>...</td>\n",
       "      <td>Nguyen</td>\n",
       "      <td>Female</td>\n",
       "      <td>Alabama</td>\n",
       "      <td>31</td>\n",
       "      <td>2/17/2019</td>\n",
       "      <td>3</td>\n",
       "      <td>married</td>\n",
       "      <td>40423</td>\n",
       "      <td>both</td>\n",
       "      <td>South</td>\n",
       "    </tr>\n",
       "    <tr>\n",
       "      <th>3</th>\n",
       "      <td>2539329</td>\n",
       "      <td>1</td>\n",
       "      <td>prior</td>\n",
       "      <td>1</td>\n",
       "      <td>2</td>\n",
       "      <td>8</td>\n",
       "      <td>NaN</td>\n",
       "      <td>26088</td>\n",
       "      <td>4</td>\n",
       "      <td>0</td>\n",
       "      <td>...</td>\n",
       "      <td>Nguyen</td>\n",
       "      <td>Female</td>\n",
       "      <td>Alabama</td>\n",
       "      <td>31</td>\n",
       "      <td>2/17/2019</td>\n",
       "      <td>3</td>\n",
       "      <td>married</td>\n",
       "      <td>40423</td>\n",
       "      <td>both</td>\n",
       "      <td>South</td>\n",
       "    </tr>\n",
       "    <tr>\n",
       "      <th>4</th>\n",
       "      <td>2539329</td>\n",
       "      <td>1</td>\n",
       "      <td>prior</td>\n",
       "      <td>1</td>\n",
       "      <td>2</td>\n",
       "      <td>8</td>\n",
       "      <td>NaN</td>\n",
       "      <td>26405</td>\n",
       "      <td>5</td>\n",
       "      <td>0</td>\n",
       "      <td>...</td>\n",
       "      <td>Nguyen</td>\n",
       "      <td>Female</td>\n",
       "      <td>Alabama</td>\n",
       "      <td>31</td>\n",
       "      <td>2/17/2019</td>\n",
       "      <td>3</td>\n",
       "      <td>married</td>\n",
       "      <td>40423</td>\n",
       "      <td>both</td>\n",
       "      <td>South</td>\n",
       "    </tr>\n",
       "  </tbody>\n",
       "</table>\n",
       "<p>5 rows × 31 columns</p>\n",
       "</div>"
      ],
      "text/plain": [
       "   order_id user_id eval_set  order_number  orders_day_of_week  \\\n",
       "0   2539329       1    prior             1                   2   \n",
       "1   2539329       1    prior             1                   2   \n",
       "2   2539329       1    prior             1                   2   \n",
       "3   2539329       1    prior             1                   2   \n",
       "4   2539329       1    prior             1                   2   \n",
       "\n",
       "   order_hour_of_day  days_since_prior_order  product_id  add_to_cart_order  \\\n",
       "0                  8                     NaN         196                  1   \n",
       "1                  8                     NaN       14084                  2   \n",
       "2                  8                     NaN       12427                  3   \n",
       "3                  8                     NaN       26088                  4   \n",
       "4                  8                     NaN       26405                  5   \n",
       "\n",
       "   reordered  ... last_name  gender    state  age date_joined n_dependants  \\\n",
       "0          0  ...    Nguyen  Female  Alabama   31   2/17/2019            3   \n",
       "1          0  ...    Nguyen  Female  Alabama   31   2/17/2019            3   \n",
       "2          0  ...    Nguyen  Female  Alabama   31   2/17/2019            3   \n",
       "3          0  ...    Nguyen  Female  Alabama   31   2/17/2019            3   \n",
       "4          0  ...    Nguyen  Female  Alabama   31   2/17/2019            3   \n",
       "\n",
       "  marital_status income  _merge region  \n",
       "0        married  40423    both  South  \n",
       "1        married  40423    both  South  \n",
       "2        married  40423    both  South  \n",
       "3        married  40423    both  South  \n",
       "4        married  40423    both  South  \n",
       "\n",
       "[5 rows x 31 columns]"
      ]
     },
     "execution_count": 30,
     "metadata": {},
     "output_type": "execute_result"
    }
   ],
   "source": [
    "ords_prods_cust.head()"
   ]
  },
  {
   "cell_type": "code",
   "execution_count": 35,
   "id": "7fde8b6b-39b5-47b5-9054-4b7a81312fe9",
   "metadata": {},
   "outputs": [],
   "source": [
    "# save changes to ords_prods_cust\n",
    "ords_prods_cust.to_pickle(os.path.join(path, 'Data','Prepared Data', 'orders_products_customers_merged_customers.pkl'))"
   ]
  },
  {
   "cell_type": "markdown",
   "id": "6396deb2-c526-4ab3-912e-aeb2a14c3265",
   "metadata": {},
   "source": [
    "# 4.  Create an exclusion flag for low-activity customers (customers with less than 5 orders) and exclude them from the data. "
   ]
  },
  {
   "cell_type": "code",
   "execution_count": 38,
   "id": "b195a119-1542-4198-a76f-91897c930482",
   "metadata": {},
   "outputs": [],
   "source": [
    "# Create a flag for customers with less than 5 orders\n",
    "ords_prods_cust.loc[ords_prods_cust['max_order'] < 5, 'activity_flag'] = 'low-activity customer'\n",
    "ords_prods_cust.loc[ords_prods_cust['max_order'] >= 5, 'activity_flag'] = 'high-activity customer'"
   ]
  },
  {
   "cell_type": "code",
   "execution_count": 40,
   "id": "cc5a8d0f-40aa-4a8c-a9a7-3235e2b97d45",
   "metadata": {},
   "outputs": [
    {
     "data": {
      "text/plain": [
       "activity_flag\n",
       "high-activity customer    30964564\n",
       "low-activity customer      1440295\n",
       "Name: count, dtype: int64"
      ]
     },
     "execution_count": 40,
     "metadata": {},
     "output_type": "execute_result"
    }
   ],
   "source": [
    "ords_prods_cust['activity_flag'].value_counts(dropna = False)"
   ]
  },
  {
   "cell_type": "code",
   "execution_count": 42,
   "id": "100fe7fb-8bb3-4ac6-b79b-d57f1e6d3329",
   "metadata": {},
   "outputs": [],
   "source": [
    "# Exclude low-activity customers from the dataframe\n",
    "df_excluded = ords_prods_cust[ords_prods_cust['activity_flag'] != 'low-activity customer']"
   ]
  },
  {
   "cell_type": "code",
   "execution_count": 43,
   "id": "837412a6-fd09-4ed2-be83-80333e34977d",
   "metadata": {},
   "outputs": [],
   "source": [
    "# Export the new dataframe\n",
    "df_excluded.to_pickle(os.path.join(path, 'Data','Prepared Data', 'low_activity_excluded.pkl'))"
   ]
  },
  {
   "cell_type": "markdown",
   "id": "80e6e9e8-04e0-4b47-8f03-c3823e0dbfc5",
   "metadata": {},
   "source": [
    "# 5. & 6. Create a profiling variable based on age, income, certain goods in the “department_id” column, and number of dependents. You might also use the “orders_day_of_week” and “order_hour_of_day” columns if you can think of a way they would impact customer profiles. Then create images."
   ]
  },
  {
   "cell_type": "markdown",
   "id": "453f52d7-6470-451b-acb6-d7b798e5e027",
   "metadata": {},
   "source": [
    "## Income"
   ]
  },
  {
   "cell_type": "code",
   "execution_count": 49,
   "id": "d0855df1-f334-45af-8541-f7b1b65aff8d",
   "metadata": {},
   "outputs": [
    {
     "name": "stderr",
     "output_type": "stream",
     "text": [
      "/var/folders/bt/0qxz205n0rq_tmdn58cpbpb00000gn/T/ipykernel_1212/1030381792.py:2: SettingWithCopyWarning: \n",
      "A value is trying to be set on a copy of a slice from a DataFrame.\n",
      "Try using .loc[row_indexer,col_indexer] = value instead\n",
      "\n",
      "See the caveats in the documentation: https://pandas.pydata.org/pandas-docs/stable/user_guide/indexing.html#returning-a-view-versus-a-copy\n",
      "  df_excluded.loc[df_excluded['income'] <= 55000, 'income_group'] = 'low-income'\n"
     ]
    }
   ],
   "source": [
    "# Create an income group variable\n",
    "df_excluded.loc[df_excluded['income'] <= 55000, 'income_group'] = 'low-income'\n",
    "df_excluded.loc[(df_excluded['income'] > 55000) & (df_excluded['income'] <= 150000), 'income_group'] = 'middle-income'\n",
    "df_excluded.loc[df_excluded['income'] > 150000, 'income_group'] = 'high-income'"
   ]
  },
  {
   "cell_type": "code",
   "execution_count": 51,
   "id": "46c6d8f4-533b-447a-9102-5956d87733dd",
   "metadata": {},
   "outputs": [
    {
     "data": {
      "text/plain": [
       "income_group\n",
       "middle-income    22617642\n",
       "low-income        4452388\n",
       "high-income       3894534\n",
       "Name: count, dtype: int64"
      ]
     },
     "execution_count": 51,
     "metadata": {},
     "output_type": "execute_result"
    }
   ],
   "source": [
    "# Check the counts of income groups\n",
    "df_excluded['income_group'].value_counts(dropna = False)"
   ]
  },
  {
   "cell_type": "code",
   "execution_count": 53,
   "id": "ba0e3c4a-e04d-44c0-9668-ca23c2b11ea0",
   "metadata": {},
   "outputs": [
    {
     "data": {
      "image/png": "[encoded data removed]",
      "text/plain": [
       "<Figure size 640x480 with 1 Axes>"
      ]
     },
     "metadata": {},
     "output_type": "display_data"
    }
   ],
   "source": [
    "# Make a bar chart showing the distribution of income groups\n",
    "income_group_counts = df_excluded['income_group'].value_counts(dropna=False)\n",
    "income_group_distribution_bar = income_group_counts.plot.bar()  \n",
    "plt.title('Distribution of Income Groups')\n",
    "plt.xlabel('')\n",
    "plt.ylabel('Count')\n",
    "plt.show()"
   ]
  },
  {
   "cell_type": "code",
   "execution_count": 55,
   "id": "135a0f66-6b22-4d74-9139-1921172f1138",
   "metadata": {},
   "outputs": [],
   "source": [
    "# Export the bar chart\n",
    "income_group_distribution_bar.figure.savefig(os.path.join(path, 'Analysis','Visualizations', 'income_distribution_bar.png'))"
   ]
  },
  {
   "cell_type": "markdown",
   "id": "9db1d45c-7623-4057-add1-5f16c6004cca",
   "metadata": {},
   "source": [
    "## Age"
   ]
  },
  {
   "cell_type": "code",
   "execution_count": 59,
   "id": "8d01046b-1220-487f-bdcb-433ee614eb4b",
   "metadata": {},
   "outputs": [
    {
     "name": "stderr",
     "output_type": "stream",
     "text": [
      "/var/folders/bt/0qxz205n0rq_tmdn58cpbpb00000gn/T/ipykernel_1212/2854730798.py:2: SettingWithCopyWarning: \n",
      "A value is trying to be set on a copy of a slice from a DataFrame.\n",
      "Try using .loc[row_indexer,col_indexer] = value instead\n",
      "\n",
      "See the caveats in the documentation: https://pandas.pydata.org/pandas-docs/stable/user_guide/indexing.html#returning-a-view-versus-a-copy\n",
      "  df_excluded.loc[df_excluded['age'] <= 25, 'age_group'] = 'young adult'\n"
     ]
    }
   ],
   "source": [
    "# Create an age group variable\n",
    "df_excluded.loc[df_excluded['age'] <= 25, 'age_group'] = 'young adult'\n",
    "df_excluded.loc[(df_excluded['age'] > 25) & (df_excluded['age'] <= 44), 'age_group'] = 'adult'\n",
    "df_excluded.loc[(df_excluded['age'] > 44) & (df_excluded['age'] <= 64), 'age_group'] = 'middle-aged'\n",
    "df_excluded.loc[df_excluded['age'] > 64, 'age_group'] = 'senior'"
   ]
  },
  {
   "cell_type": "code",
   "execution_count": 61,
   "id": "7d76f265-3d06-4282-b5ea-145cf5df0222",
   "metadata": {},
   "outputs": [
    {
     "data": {
      "text/plain": [
       "age_group\n",
       "middle-aged    9690051\n",
       "adult          9214451\n",
       "senior         8195544\n",
       "young adult    3864518\n",
       "Name: count, dtype: int64"
      ]
     },
     "execution_count": 61,
     "metadata": {},
     "output_type": "execute_result"
    }
   ],
   "source": [
    "# Check value counts for each age group\n",
    "age_group_counts = df_excluded['age_group'].value_counts(dropna = False)\n",
    "age_group_counts"
   ]
  },
  {
   "cell_type": "code",
   "execution_count": 63,
   "id": "af67e916-2c53-40c0-ab3f-21d7ea549a28",
   "metadata": {},
   "outputs": [
    {
     "data": {
      "image/png": "[encoded data removed]",
      "text/plain": [
       "<Figure size 640x480 with 1 Axes>"
      ]
     },
     "metadata": {},
     "output_type": "display_data"
    }
   ],
   "source": [
    "# Make a pie chart showing the distribution of age groups\n",
    "age_group_distribution_pie = age_group_counts.plot.pie(autopct='%1.1f%%', labels= ['middle-aged: 45-64 years', 'adult: 26-44 years', 'senior: 65+ years', 'young adult: up to 25 years'], startangle=90, colors=['#ff9999','#66b3ff','#99ff99','#ffcc99'])\n",
    "plt.ylabel('')  # Hide the y-label\n",
    "plt.title('Distribution of Age Groups')\n",
    "plt.show()"
   ]
  },
  {
   "cell_type": "code",
   "execution_count": 67,
   "id": "d443e7a7-5936-469f-82a4-09812c19931d",
   "metadata": {},
   "outputs": [],
   "source": [
    "# Export chart\n",
    "age_group_distribution_pie.figure.savefig(os.path.join(path, 'Analysis','Visualizations', 'age_group_distribution_pie.png'))"
   ]
  },
  {
   "cell_type": "markdown",
   "id": "250f70ad-11c8-400a-8148-0da2764a0b3e",
   "metadata": {},
   "source": [
    "## Dependants"
   ]
  },
  {
   "cell_type": "code",
   "execution_count": 74,
   "id": "ce86c5db-61f0-4022-8ac5-be61271dfa3c",
   "metadata": {},
   "outputs": [
    {
     "name": "stderr",
     "output_type": "stream",
     "text": [
      "/var/folders/bt/0qxz205n0rq_tmdn58cpbpb00000gn/T/ipykernel_1212/2552754020.py:2: SettingWithCopyWarning: \n",
      "A value is trying to be set on a copy of a slice from a DataFrame.\n",
      "Try using .loc[row_indexer,col_indexer] = value instead\n",
      "\n",
      "See the caveats in the documentation: https://pandas.pydata.org/pandas-docs/stable/user_guide/indexing.html#returning-a-view-versus-a-copy\n",
      "  df_excluded.loc[df_excluded['n_dependants'] == 0, 'dependants_flag'] = 'no dependants'\n"
     ]
    }
   ],
   "source": [
    "# Create a dependents flag\n",
    "df_excluded.loc[df_excluded['n_dependants'] == 0, 'dependants_flag'] = 'no dependants'\n",
    "df_excluded.loc[df_excluded['n_dependants'] >= 1, 'dependants_flag'] = 'has dependants'"
   ]
  },
  {
   "cell_type": "code",
   "execution_count": 76,
   "id": "7a89b08c-b2d9-49c0-99d5-45ea734cf912",
   "metadata": {},
   "outputs": [
    {
     "data": {
      "text/plain": [
       "dependants_flag\n",
       "has dependants    23224883\n",
       "no dependants      7739681\n",
       "Name: count, dtype: int64"
      ]
     },
     "execution_count": 76,
     "metadata": {},
     "output_type": "execute_result"
    }
   ],
   "source": [
    "# Check value counts\n",
    "dependant_counts = df_excluded['dependants_flag'].value_counts(dropna = False)\n",
    "dependant_counts"
   ]
  },
  {
   "cell_type": "code",
   "execution_count": 78,
   "id": "4413e56b-91da-449b-a462-7be1b7e21b4a",
   "metadata": {},
   "outputs": [
    {
     "data": {
      "image/png": "[encoded data removed]",
      "text/plain": [
       "<Figure size 640x480 with 1 Axes>"
      ]
     },
     "metadata": {},
     "output_type": "display_data"
    }
   ],
   "source": [
    "# Make a pie chart showing the percentage of dependants\n",
    "dependants_pie = dependant_counts.plot.pie(autopct='%1.1f%%', labels= ['has dependants', 'no dependants'], startangle=90, colors=['#ff9999','#66b3ff'])\n",
    "plt.ylabel('')  # Hide the y-label\n",
    "plt.title('Percentage Having Dependants')\n",
    "plt.show()"
   ]
  },
  {
   "cell_type": "code",
   "execution_count": 80,
   "id": "be0cc341-ac3d-4899-90bf-a52cc92492ad",
   "metadata": {},
   "outputs": [],
   "source": [
    "# Export the new dataframe\n",
    "df_excluded.to_pickle(os.path.join(path, 'Data','Prepared Data', 'low_activity_excluded.pkl'))"
   ]
  },
  {
   "cell_type": "code",
   "execution_count": 81,
   "id": "e7f6ea26-d972-4557-a76b-ed291d4dee1a",
   "metadata": {},
   "outputs": [],
   "source": [
    "# import dataframe\n",
    "df_excluded = pd.read_pickle(os.path.join(path, 'Data', 'Prepared Data', 'low_activity_excluded.pkl'))"
   ]
  },
  {
   "cell_type": "code",
   "execution_count": 83,
   "id": "042ccf8f-6b5a-4729-adb7-8630c3f6fe68",
   "metadata": {},
   "outputs": [
    {
     "data": {
      "text/plain": [
       "['order_id',\n",
       " 'user_id',\n",
       " 'eval_set',\n",
       " 'order_number',\n",
       " 'orders_day_of_week',\n",
       " 'order_hour_of_day',\n",
       " 'days_since_prior_order',\n",
       " 'product_id',\n",
       " 'add_to_cart_order',\n",
       " 'reordered',\n",
       " 'product_name',\n",
       " 'aisle_id',\n",
       " 'department_id',\n",
       " 'prices',\n",
       " 'match',\n",
       " 'busiest_day',\n",
       " 'busiest_days',\n",
       " 'busiest_period_of_day',\n",
       " 'max_order',\n",
       " 'loyalty_flag',\n",
       " 'first_name',\n",
       " 'last_name',\n",
       " 'gender',\n",
       " 'state',\n",
       " 'age',\n",
       " 'date_joined',\n",
       " 'n_dependants',\n",
       " 'marital_status',\n",
       " 'income',\n",
       " '_merge',\n",
       " 'region',\n",
       " 'activity_flag',\n",
       " 'income_group',\n",
       " 'age_group',\n",
       " 'dependants_flag']"
      ]
     },
     "execution_count": 83,
     "metadata": {},
     "output_type": "execute_result"
    }
   ],
   "source": [
    "list(df_excluded.columns.values)"
   ]
  },
  {
   "cell_type": "markdown",
   "id": "9ffa0617-fa0a-4f40-a76c-6b6229ca3c41",
   "metadata": {},
   "source": [
    "## Loyalty vs Age Group"
   ]
  },
  {
   "cell_type": "code",
   "execution_count": 90,
   "id": "ff615889-d050-4d22-8f1a-8b2ba2b569b0",
   "metadata": {},
   "outputs": [
    {
     "data": {
      "text/html": [
       "<div>\n",
       "<style scoped>\n",
       "    .dataframe tbody tr th:only-of-type {\n",
       "        vertical-align: middle;\n",
       "    }\n",
       "\n",
       "    .dataframe tbody tr th {\n",
       "        vertical-align: top;\n",
       "    }\n",
       "\n",
       "    .dataframe thead th {\n",
       "        text-align: right;\n",
       "    }\n",
       "</style>\n",
       "<table border=\"1\" class=\"dataframe\">\n",
       "  <thead>\n",
       "    <tr style=\"text-align: right;\">\n",
       "      <th>age_group</th>\n",
       "      <th>adult</th>\n",
       "      <th>middle-aged</th>\n",
       "      <th>senior</th>\n",
       "      <th>young adult</th>\n",
       "    </tr>\n",
       "    <tr>\n",
       "      <th>loyalty_flag</th>\n",
       "      <th></th>\n",
       "      <th></th>\n",
       "      <th></th>\n",
       "      <th></th>\n",
       "    </tr>\n",
       "  </thead>\n",
       "  <tbody>\n",
       "    <tr>\n",
       "      <th>Loyal customer</th>\n",
       "      <td>3048175</td>\n",
       "      <td>3231509</td>\n",
       "      <td>2723958</td>\n",
       "      <td>1280451</td>\n",
       "    </tr>\n",
       "    <tr>\n",
       "      <th>New customer</th>\n",
       "      <td>1420508</td>\n",
       "      <td>1506670</td>\n",
       "      <td>1276659</td>\n",
       "      <td>599858</td>\n",
       "    </tr>\n",
       "    <tr>\n",
       "      <th>Regular customer</th>\n",
       "      <td>4745768</td>\n",
       "      <td>4951872</td>\n",
       "      <td>4194927</td>\n",
       "      <td>1984209</td>\n",
       "    </tr>\n",
       "  </tbody>\n",
       "</table>\n",
       "</div>"
      ],
      "text/plain": [
       "age_group           adult  middle-aged   senior  young adult\n",
       "loyalty_flag                                                \n",
       "Loyal customer    3048175      3231509  2723958      1280451\n",
       "New customer      1420508      1506670  1276659       599858\n",
       "Regular customer  4745768      4951872  4194927      1984209"
      ]
     },
     "execution_count": 90,
     "metadata": {},
     "output_type": "execute_result"
    }
   ],
   "source": [
    "# Crosstab loyalty with age group\n",
    "loyalty_age_cross = pd.crosstab(df_excluded['loyalty_flag'], df_excluded['age_group'], dropna = False)\n",
    "loyalty_age_cross"
   ]
  },
  {
   "cell_type": "code",
   "execution_count": 92,
   "id": "b844754f-da22-49cc-b31b-ac694c4e7f88",
   "metadata": {},
   "outputs": [
    {
     "data": {
      "text/plain": [
       "(array([0, 1, 2]),\n",
       " [Text(0, 0, 'Loyal customer'),\n",
       "  Text(1, 0, 'New customer'),\n",
       "  Text(2, 0, 'Regular customer')])"
      ]
     },
     "execution_count": 92,
     "metadata": {},
     "output_type": "execute_result"
    },
    {
     "data": {
      "image/png": "[encoded data removed]",
      "text/plain": [
       "<Figure size 640x480 with 1 Axes>"
      ]
     },
     "metadata": {},
     "output_type": "display_data"
    }
   ],
   "source": [
    "# bar chart\n",
    "loyalty_age_bar = loyalty_age_cross.plot.bar()\n",
    "plt.title('Loyalty by Age Group')\n",
    "plt.xlabel('')\n",
    "plt.ylabel('count')\n",
    "plt.xticks(rotation=0)"
   ]
  },
  {
   "cell_type": "code",
   "execution_count": 94,
   "id": "f895803b-4ed8-4f2d-b6dd-223010192a73",
   "metadata": {},
   "outputs": [],
   "source": [
    "# Export the chart\n",
    "loyalty_age_bar.figure.savefig(os.path.join(path, 'Analysis','Visualizations', 'loyalty_age_group_bar.png'))"
   ]
  },
  {
   "cell_type": "markdown",
   "id": "ed48e65e-4880-41f5-8f34-c135277a102a",
   "metadata": {},
   "source": []
  },
  {
   "cell_type": "code",
   "execution_count": null,
   "id": "bced4ca3-de15-4b53-a96d-3e4ac7b3427b",
   "metadata": {},
   "outputs": [],
   "source": []
  }
 ],
 "metadata": {
  "kernelspec": {
   "display_name": "Python 3 (ipykernel)",
   "language": "python",
   "name": "python3"
  },
  "language_info": {
   "codemirror_mode": {
    "name": "ipython",
    "version": 3
   },
   "file_extension": ".py",
   "mimetype": "text/x-python",
   "name": "python",
   "nbconvert_exporter": "python",
   "pygments_lexer": "ipython3",
   "version": "3.12.7"
  }
 },
 "nbformat": 4,
 "nbformat_minor": 5
}
